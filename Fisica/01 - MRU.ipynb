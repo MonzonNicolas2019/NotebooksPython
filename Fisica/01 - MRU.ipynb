{
 "cells": [
  {
   "cell_type": "markdown",
   "metadata": {},
   "source": [
    "# Movimiento Rectilíneo Uniforme\n",
    "\n",
    "Monzón Nicolás Alberto (monzonnicolas@hotmail.com)\n",
    "\n",
    "Facultad de Ciencias Exactas y Naturales, Universidad de Buenos Aires\n",
    "\n",
    "## Introducción\n",
    "\n",
    "La mayoría de los problemas de MRU son problemas típicos como encuentro entre dos cuerpos o encontrar la posición de inicio o la posición final. Vamos a automatizar la resolución de estos problemas usando Python.\n",
    "\n",
    "En particular, vamos a tratar de resolver mediante funciones de Python algunos problemas de la guía de Física (03) para el CBC, de la Universidad de Buenos Aires.\n",
    "\n",
    "Crearemos, como soporte, una clase MRU que nos permita hacer el cálculo de forma dinámica.\n",
    "\n",
    "## Punto de encuentro\n",
    "\n",
    "Supongamos dos ecuaciones de MRU que queremos aplicar punto de encuentro. El encuentro estará dado de la siguiente manera:\n",
    "\n",
    "$$x_e = x_{01} + v_1(t_e - t_{01})$$ y $$x_e = x_{02} + v_2(t_e - t_{02})$$\n",
    "\n",
    "En definitiva, restando ambas ecuaciones:\n",
    "\n",
    "$$0 = x_{01} - x_{02} + t_e(v_1 - v_2) - t_{01}v_1 + t_{02}v_2 \\\\\n",
    "\\frac{x_{02} - x_{01} + t_{01}v_1 - t_{02}v_2 }{v_1 - v_2} = t_e$$\n",
    "\n",
    "Luego, reemplazamos $t_e$ en alguna de las ecuaciones con $x_e$, y podemos despejarlo."
   ]
  },
  {
   "cell_type": "code",
   "execution_count": 56,
   "metadata": {},
   "outputs": [],
   "source": [
    "#Suponemos todas la unidad de medida m para longitud y s para tiempo\n",
    "class Point():\n",
    "    \n",
    "    def __init__(self, x_0, y_0):\n",
    "        self.x_0 = x_0\n",
    "        self.y_0 = y_0\n",
    "    \n",
    "    def getX(self):\n",
    "        return self.x_0\n",
    "    \n",
    "    def getY(self):\n",
    "        return self.y_0\n",
    "\n",
    "class MRU1D_Utils():\n",
    "    \n",
    "    def __init__(self, v, x_0 = 0, t_0 = 0):\n",
    "        self.v = v\n",
    "        self.x_0 = x_0\n",
    "        self.t_0 = t_0\n",
    "\n",
    "    def printEquation(self):\n",
    "        equation = \"x = {} + {}(t-{})\"\n",
    "        print(equation.format(self.x_0, self.v, self.t_0))\n",
    "        \n",
    "    def calculateEquationForInstant(self, t):\n",
    "        return self.x_0 + self.v * (t - self.t_0)\n",
    "    \n",
    "    def existsMeetingPoint(self, mruTo):\n",
    "        return not (self.v == mruTo.getV() and not (self.x_0 == mruTo.getX_0()))\n",
    "    \n",
    "    def isEquivalent(self, mruTo):\n",
    "        if self.v == mruTo.getV():\n",
    "            if self.calculateEquationForInstant(self.t_0) == mruTo.calculateEquationForInstant(self.t_0):\n",
    "                return True\n",
    "            else:\n",
    "                return False\n",
    "        else:\n",
    "            return False\n",
    "    \n",
    "    def instantOfMeetingPoint(self, mruTo): #Return None si no existe un punto de encuentro\n",
    "        if not self.existsMeetingPoint(mruTo):\n",
    "            return None\n",
    "        elif self.isEquivalent(mruTo):\n",
    "            if self.t_0 > mruTo.getT_0():\n",
    "                return self.t_0\n",
    "            else:\n",
    "                return mruTo.getT_0()\n",
    "        else:\n",
    "            #Aplicamos el punto de encuentro\n",
    "            deltaV = self.v - mruTo.getV()\n",
    "            deltaX = self.x_0 - mruTo.getX_0()\n",
    "            aux = -1 * deltaX + self.t_0 * self.v - mruTo.getT_0() * mruTo.getV()\n",
    "            return aux / deltaV\n",
    "    \n",
    "    def meetingPoint(self, mruTo):\n",
    "        t_e = self.instantOfMeetingPoint(mruTo)\n",
    "        if t_e is None:\n",
    "            return None\n",
    "        else:\n",
    "            return self.calculateEquationForInstant(t_e)\n",
    "        \n",
    "    #Point1 siempre es una posición distinta a la inicial, no necesariamente la final\n",
    "    def getMRUofTwoPoints(point1, point2 = Point(0, 0)): \n",
    "        if point1.getX() == point2.getX():\n",
    "            return None\n",
    "        else:\n",
    "            vAux = (point1.getY() - point2.getY()) / (point1.getX() - point2.getX())\n",
    "            return MRU1D_Utils(vAux, point2.getY(), point2.getX())\n",
    "        \n",
    "    def getV(self):\n",
    "        return self.v\n",
    "    \n",
    "    def getX_0(self):\n",
    "        return self.x_0\n",
    "    \n",
    "    def getT_0(self):\n",
    "        return self.t_0\n",
    "\n",
    "\n",
    "MRU1D_Utils.getMRUofTwoPoints = staticmethod(MRU1D_Utils.getMRUofTwoPoints)"
   ]
  },
  {
   "cell_type": "markdown",
   "metadata": {},
   "source": [
    "Con estas herramientas, por ejemplo, con solo colocar los puntos vistos en los graficos del punto (1) de la guía de ejercicios, podremos conocer el punto de encuentro y el instante de encuentro (lo siguiente es para el item 1):"
   ]
  },
  {
   "cell_type": "code",
   "execution_count": 57,
   "metadata": {
    "scrolled": true
   },
   "outputs": [
    {
     "data": {
      "application/vnd.jupyter.widget-view+json": {
       "model_id": "482a232cd6154996a989f000f8071e16",
       "version_major": 2,
       "version_minor": 0
      },
      "text/plain": [
       "interactive(children=(IntSlider(value=1, description='mru1_x1', max=10, min=-10), IntSlider(value=2, descripti…"
      ]
     },
     "metadata": {},
     "output_type": "display_data"
    },
    {
     "data": {
      "text/plain": [
       "<function __main__.myfunc(mru1_x1, mru1_y1, mru1_x2, mru1_y2, mru2_x1, mru2_y1, mru2_x2, mru2_y2)>"
      ]
     },
     "execution_count": 57,
     "metadata": {},
     "output_type": "execute_result"
    }
   ],
   "source": [
    "from ipywidgets import interact, widgets\n",
    "\n",
    "def myfunc(mru1_x1, mru1_y1, mru1_x2, mru1_y2, mru2_x1, mru2_y1, mru2_x2, mru2_y2):\n",
    "    mru1 = MRU1D_Utils.getMRUofTwoPoints(Point(mru1_x1,mru1_y1), Point(mru1_x2,mru1_y2))\n",
    "    mru2 = MRU1D_Utils.getMRUofTwoPoints(Point(mru2_x1,mru2_y1), Point(mru2_x2,mru2_y2))\n",
    "    \n",
    "    if mru1 is None or mru2 is None:\n",
    "        print(\"No hay punto de encuentro\")\n",
    "    else:\n",
    "        t_e = mru1.instantOfMeetingPoint(mru2)\n",
    "        if t_e is None:\n",
    "            print(\"No hay punto de encuentro\")\n",
    "        else:\n",
    "            x_e = mru1.meetingPoint(mru2)\n",
    "            print(\"El punto de encuentro es {}m\".format(round(x_e,2)) + \" a los {}s\".format(round(t_e,2)))\n",
    "\n",
    "interact(myfunc,\n",
    "        mru1_x1=widgets.IntSlider(min=-10,max=10,value=1),\n",
    "        mru1_y1=widgets.IntSlider(min=-10,max=10,value=2),\n",
    "        mru1_x2=widgets.IntSlider(min=-10,max=10,value=0),\n",
    "        mru1_y2=widgets.IntSlider(min=-10,max=10,value=2),\n",
    "        mru2_x1=widgets.IntSlider(min=-10,max=10,value=1),\n",
    "        mru2_y1=widgets.IntSlider(min=-10,max=10,value=0),\n",
    "        mru2_x2=widgets.IntSlider(min=-10,max=10,value=0),\n",
    "        mru2_y2=widgets.IntSlider(min=-10,max=10,value=-3))\n",
    "\n",
    "#Uso los puntos (1,2) y (0,2) para mru1 y uso los puntos (1,0) y (0,-3) para mru2\n"
   ]
  }
 ],
 "metadata": {
  "kernelspec": {
   "display_name": "Python 3",
   "language": "python",
   "name": "python3"
  },
  "language_info": {
   "codemirror_mode": {
    "name": "ipython",
    "version": 3
   },
   "file_extension": ".py",
   "mimetype": "text/x-python",
   "name": "python",
   "nbconvert_exporter": "python",
   "pygments_lexer": "ipython3",
   "version": "3.7.5"
  }
 },
 "nbformat": 4,
 "nbformat_minor": 2
}
